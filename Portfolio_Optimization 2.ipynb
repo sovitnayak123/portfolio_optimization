{
 "cells": [
  {
   "cell_type": "markdown",
   "id": "5c3737fb-f0d8-4dc6-b9d5-8e74a1d9b346",
   "metadata": {},
   "source": [
    "# Importing Dependencies"
   ]
  },
  {
   "cell_type": "code",
   "execution_count": 2,
   "id": "7cd3cbf1-80a8-4f45-861a-d00ede39831e",
   "metadata": {},
   "outputs": [],
   "source": [
    "import yfinance as yf\n",
    "import pandas as pd\n",
    "from datetime import datetime,timedelta\n",
    "import numpy as np\n",
    "from scipy.optimize import minimize"
   ]
  },
  {
   "cell_type": "markdown",
   "id": "c349bd39-29b5-4efa-bf75-270c5e3fdad9",
   "metadata": {},
   "source": [
    "# Defining list of Tickers and Time range ( start and end date)"
   ]
  },
  {
   "cell_type": "code",
   "execution_count": 3,
   "id": "c7613bd8-07fa-4267-8c1c-1095d4c5ea9c",
   "metadata": {},
   "outputs": [],
   "source": [
    "tickers = ['SPY' , 'BND', 'GLD', 'QQQ' , 'VTI']"
   ]
  },
  {
   "cell_type": "code",
   "execution_count": 4,
   "id": "c0411679-2a7e-426c-aed8-760b0a3d3e8b",
   "metadata": {},
   "outputs": [],
   "source": [
    "end_date = datetime.today()"
   ]
  },
  {
   "cell_type": "code",
   "execution_count": 7,
   "id": "f52592fe-7d0e-42b5-9c6d-97758c452127",
   "metadata": {},
   "outputs": [
    {
     "name": "stdout",
     "output_type": "stream",
     "text": [
      "2019-07-03 23:26:58.847329\n"
     ]
    }
   ],
   "source": [
    "start_date = end_date - timedelta(days = 5 * 365)\n",
    "print(start_date)"
   ]
  },
  {
   "cell_type": "markdown",
   "id": "4b0f543c-ad8c-435c-acff-af0cdb2491cb",
   "metadata": {},
   "source": [
    "# Adjusted close prices"
   ]
  },
  {
   "cell_type": "code",
   "execution_count": 8,
   "id": "75edd5df-930d-48c6-a743-4cb90b2aea13",
   "metadata": {},
   "outputs": [],
   "source": [
    "adj_close_df = pd.DataFrame()"
   ]
  },
  {
   "cell_type": "code",
   "execution_count": 9,
   "id": "63858e48-5447-45df-8852-e59ca1debb82",
   "metadata": {},
   "outputs": [
    {
     "name": "stderr",
     "output_type": "stream",
     "text": [
      "[*********************100%%**********************]  1 of 1 completed\n",
      "[*********************100%%**********************]  1 of 1 completed\n",
      "[*********************100%%**********************]  1 of 1 completed\n",
      "[*********************100%%**********************]  1 of 1 completed\n",
      "[*********************100%%**********************]  1 of 1 completed\n"
     ]
    }
   ],
   "source": [
    "for ticker in tickers:\n",
    "    data = yf.download(ticker, start = start_date, end = end_date)\n",
    "    adj_close_df[ticker] = data['Adj Close']"
   ]
  },
  {
   "cell_type": "code",
   "execution_count": 10,
   "id": "b1c8a7c7-cde5-4dbb-a9be-9dd81f4f4d94",
   "metadata": {},
   "outputs": [
    {
     "name": "stdout",
     "output_type": "stream",
     "text": [
      "                   SPY        BND         GLD         QQQ         VTI\n",
      "Date                                                                 \n",
      "2019-07-05  275.856049  72.756516  132.139999  185.069992  140.863770\n",
      "2019-07-08  274.340302  72.747749  131.289993  183.771927  140.106598\n",
      "2019-07-09  274.682220  72.651062  131.750000  184.692200  140.355881\n",
      "2019-07-10  275.994659  72.712601  133.830002  186.532715  140.928360\n",
      "2019-07-11  276.641663  72.475296  132.699997  186.397110  141.122299\n",
      "...                ...        ...         ...         ...         ...\n",
      "2024-06-25  544.830017  72.599998  214.559998  479.380005  267.790253\n",
      "2024-06-26  545.510010  72.260002  212.580002  480.369995  267.780304\n",
      "2024-06-27  546.369995  72.389999  214.990005  481.609985  268.428009\n",
      "2024-06-28  544.219971  72.050003  215.009995  479.109985  267.510010\n",
      "2024-07-01  545.340027  71.449997  215.570007  481.920013  268.049988\n",
      "\n",
      "[1256 rows x 5 columns]\n"
     ]
    }
   ],
   "source": [
    "print(adj_close_df)"
   ]
  },
  {
   "cell_type": "markdown",
   "id": "a05eb421-314d-4217-a977-b0c566ea4e4d",
   "metadata": {},
   "source": [
    "# Log normal Returns"
   ]
  },
  {
   "cell_type": "code",
   "execution_count": 12,
   "id": "0edb0e2e-c70e-4c17-b3d6-fd0ee792447b",
   "metadata": {},
   "outputs": [],
   "source": [
    "log_returns = np.log(adj_close_df/adj_close_df.shift(1))"
   ]
  },
  {
   "cell_type": "code",
   "execution_count": 13,
   "id": "d89f70d6-100b-4df5-aaf5-d2daf722a5b5",
   "metadata": {},
   "outputs": [],
   "source": [
    "log_returns = log_returns.dropna()"
   ]
  },
  {
   "cell_type": "markdown",
   "id": "06fd0704-b5f9-49ef-b56a-b4524cccc7f3",
   "metadata": {},
   "source": [
    "# Covariance Matrix "
   ]
  },
  {
   "cell_type": "code",
   "execution_count": 17,
   "id": "1cae0fe0-9083-4772-b10a-4947c2073ada",
   "metadata": {},
   "outputs": [
    {
     "name": "stdout",
     "output_type": "stream",
     "text": [
      "          SPY       BND       GLD       QQQ       VTI\n",
      "SPY  0.044047  0.002955  0.003964  0.049625  0.045102\n",
      "BND  0.002955  0.004835  0.003879  0.003584  0.003148\n",
      "GLD  0.003964  0.003879  0.023335  0.005334  0.004185\n",
      "QQQ  0.049625  0.003584  0.005334  0.064439  0.050762\n",
      "VTI  0.045102  0.003148  0.004185  0.050762  0.046557\n"
     ]
    }
   ],
   "source": [
    "cov_matrix = log_returns.cov()*252\n",
    "print(cov_matrix)"
   ]
  },
  {
   "cell_type": "code",
   "execution_count": 25,
   "id": "7f288fab-b1b1-46fd-95b2-dbe8062e0fb8",
   "metadata": {},
   "outputs": [],
   "source": [
    "def standard_deviation(weights, cov_matrix):\n",
    "    variance = weights.T @ cov_matrix @ weights\n",
    "    return np.sqrt(variance)\n",
    "\n",
    "def expected_return(weights, log_returns):\n",
    "    return np.sum(log_returns.mean()*weights)*252\n",
    "\n",
    "def sharpe_ratio(weights, log_returns, cov_matrix, risk_free_rate):\n",
    "    return (expected_return(weights, log_returns) - risk_free_rate) / standard_deviation(weights, cov_matrix)"
   ]
  },
  {
   "cell_type": "code",
   "execution_count": 27,
   "id": "75444242-444b-4d8f-a727-cfd1341964b4",
   "metadata": {},
   "outputs": [],
   "source": [
    "risk_free_rate = .02\n",
    "def neg_sharpe_ratio(weights, log_returns, cov_matrix, risk_free_rate):\n",
    "    return -sharpe_ratio(weights, log_returns, cov_matrix, risk_free_rate)\n",
    "\n",
    "constraints = {'type': 'eq', 'fun': lambda weights: np.sum(weights) - 1}\n",
    "bounds = [(0, 0.4) for _ in range(len(tickers))]\n",
    "initial_weights = np.array([1/len(tickers)]*len(tickers))\n",
    "\n",
    "optimized_results = minimize(neg_sharpe_ratio, initial_weights, args=(log_returns, cov_matrix, risk_free_rate), method='SLSQP', constraints=constraints, bounds=bounds)"
   ]
  },
  {
   "cell_type": "code",
   "execution_count": 28,
   "id": "2ab4c512-891f-4ada-a48a-c74c7b79a3fb",
   "metadata": {},
   "outputs": [
    {
     "name": "stdout",
     "output_type": "stream",
     "text": [
      "Optimal Weights:\n",
      "SPY: 0.2000\n",
      "BND: 0.0000\n",
      "GLD: 0.4000\n",
      "QQQ: 0.4000\n",
      "VTI: 0.0000\n",
      "Expected Annual Return: 0.1435\n",
      "Expected Volatility: 0.1615\n",
      "Sharpe Ratio: 0.7649\n"
     ]
    }
   ],
   "source": [
    "optimal_weights = optimized_results.x\n",
    "\n",
    "print(\"Optimal Weights:\")\n",
    "for ticker, weight in zip(tickers, optimal_weights):\n",
    "    print(f\"{ticker}: {weight:.4f}\")\n",
    "\n",
    "optimal_portfolio_return = expected_return(optimal_weights, log_returns)\n",
    "optimal_portfolio_volatility = standard_deviation(optimal_weights, cov_matrix)\n",
    "optimal_sharpe_ratio = sharpe_ratio(optimal_weights, log_returns, cov_matrix, risk_free_rate)\n",
    "\n",
    "print(f\"Expected Annual Return: {optimal_portfolio_return:.4f}\")\n",
    "print(f\"Expected Volatility: {optimal_portfolio_volatility:.4f}\")\n",
    "print(f\"Sharpe Ratio: {optimal_sharpe_ratio:.4f}\")"
   ]
  },
  {
   "cell_type": "code",
   "execution_count": 29,
   "id": "cca263ca-068f-49b6-bc35-9e06fdb07b49",
   "metadata": {},
   "outputs": [
    {
     "data": {
      "image/png": "[encoded data removed]",
      "text/plain": [
       "<Figure size 1000x600 with 1 Axes>"
      ]
     },
     "metadata": {},
     "output_type": "display_data"
    }
   ],
   "source": [
    "import matplotlib.pyplot as plt\n",
    "\n",
    "plt.figure(figsize=(10, 6))\n",
    "plt.bar(tickers, optimal_weights)\n",
    "\n",
    "plt.xlabel('Assets')\n",
    "plt.ylabel('Optimal Weights')\n",
    "plt.title('Optimal Portfolio Weights')\n",
    "\n",
    "plt.show()"
   ]
  },
  {
   "cell_type": "code",
   "execution_count": null,
   "id": "6445d153-4a94-453c-aa17-3f5ff0470d90",
   "metadata": {},
   "outputs": [],
   "source": []
  },
  {
   "cell_type": "code",
   "execution_count": null,
   "id": "84db2933-f576-4fe3-a975-081481c125c8",
   "metadata": {},
   "outputs": [],
   "source": []
  },
  {
   "cell_type": "code",
   "execution_count": null,
   "id": "1d5dfcf6-3e31-4bfe-9f22-a130bc5a780d",
   "metadata": {},
   "outputs": [],
   "source": []
  },
  {
   "cell_type": "code",
   "execution_count": null,
   "id": "1469c47d-7063-461f-a1ad-b167f822e36c",
   "metadata": {},
   "outputs": [],
   "source": []
  },
  {
   "cell_type": "code",
   "execution_count": null,
   "id": "b2fd0e75-b028-4201-b456-f6910cfbaa0e",
   "metadata": {},
   "outputs": [],
   "source": []
  },
  {
   "cell_type": "code",
   "execution_count": null,
   "id": "c355bf18-6947-4ce1-b91e-215737284638",
   "metadata": {},
   "outputs": [],
   "source": []
  },
  {
   "cell_type": "code",
   "execution_count": null,
   "id": "81d66826-52a0-4ca8-94ea-9c73577cc353",
   "metadata": {},
   "outputs": [],
   "source": []
  },
  {
   "cell_type": "code",
   "execution_count": null,
   "id": "97856278-8742-4862-b61b-793d16fad07e",
   "metadata": {},
   "outputs": [],
   "source": []
  },
  {
   "cell_type": "code",
   "execution_count": null,
   "id": "e3c8739f-9bc1-4bd8-bc40-d638c1e7b2d0",
   "metadata": {},
   "outputs": [],
   "source": []
  },
  {
   "cell_type": "code",
   "execution_count": null,
   "id": "43d0f902-aa90-4f49-b74a-d2949de46674",
   "metadata": {},
   "outputs": [],
   "source": []
  },
  {
   "cell_type": "code",
   "execution_count": null,
   "id": "c07c5d1a-78c8-450a-b57a-2120a9a41806",
   "metadata": {},
   "outputs": [],
   "source": []
  },
  {
   "cell_type": "code",
   "execution_count": null,
   "id": "ce9a999c-b023-429b-9af1-28247e51b834",
   "metadata": {},
   "outputs": [],
   "source": []
  },
  {
   "cell_type": "code",
   "execution_count": null,
   "id": "5b9785a4-dbf5-4b20-8c1c-642045e4d128",
   "metadata": {},
   "outputs": [],
   "source": []
  },
  {
   "cell_type": "code",
   "execution_count": null,
   "id": "77706adf-18de-4631-8ed5-165b1685a467",
   "metadata": {},
   "outputs": [],
   "source": []
  }
 ],
 "metadata": {
  "kernelspec": {
   "display_name": "Python 3 (ipykernel)",
   "language": "python",
   "name": "python3"
  },
  "language_info": {
   "codemirror_mode": {
    "name": "ipython",
    "version": 3
   },
   "file_extension": ".py",
   "mimetype": "text/x-python",
   "name": "python",
   "nbconvert_exporter": "python",
   "pygments_lexer": "ipython3",
   "version": "3.11.8"
  }
 },
 "nbformat": 4,
 "nbformat_minor": 5
}
